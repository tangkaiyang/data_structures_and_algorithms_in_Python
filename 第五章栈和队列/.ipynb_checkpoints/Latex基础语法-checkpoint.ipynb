{
 "cells": [
  {
   "cell_type": "markdown",
   "metadata": {},
   "source": [
    "# LATEX基础语法"
   ]
  },
  {
   "cell_type": "markdown",
   "metadata": {},
   "source": [
    "$\\sum_{i=0}^{n}i^2$"
   ]
  },
  {
   "cell_type": "markdown",
   "metadata": {},
   "source": [
    "$$\\sum_{i=0}^{n}i^2$$"
   ]
  },
  {
   "cell_type": "markdown",
   "metadata": {},
   "source": [
    "$$x_1$$"
   ]
  },
  {
   "cell_type": "markdown",
   "metadata": {},
   "source": [
    "$$x_1^2$$"
   ]
  },
  {
   "cell_type": "markdown",
   "metadata": {},
   "source": [
    "$$x_{22}^{(n)}$$"
   ]
  },
  {
   "cell_type": "markdown",
   "metadata": {},
   "source": [
    "1. 上标和下标\n",
    "\n",
    "$$^{上标}$$\n",
    "\n",
    "$$_{下标}$$\n",
    "\n",
    "$${}^*x^*$$\n",
    "\n",
    "$${}^*\\!x^*$$\n",
    "\n",
    "2. 分式\n",
    "\n",
    "$$\\frac{x+y}{2}$$\n",
    "\n",
    "$$\\frac{1}{1+\\frac{1}{2}}$$\n",
    "\n",
    "$$(x+y)/2$$\n",
    "\n",
    "$$\\frac{分子}{分母}$$\n",
    "\n",
    "3. 根式\n",
    "\n",
    "$$\\sqrt{表达式}$$\n",
    "\n",
    "$$\\sqrt[n]{表达式}$$\n",
    "\n",
    "$$\\sqrt{2}<\\sqrt[3]{3}$$\n",
    "\n",
    "$$\\sqrt{1+\\sqrt[p]{1+a^2}}$$\n",
    "\n",
    "$$\\sqrt{1+\\sqrt[^p\\!]{1+a^2}}$$\n",
    "\n",
    "4. 求和和积分\n",
    "\n",
    "$$\\sum_{k=1}^{n}\\frac{1}{k}$$\n",
    "\n",
    "$\\sum_{k=1}^n\\frac{1}{k}$\n",
    "\n",
    "$$\\int_a^b f(x)dx$$\n",
    "\n",
    "$\\int_a^b f(x)dx$\n",
    "\n",
    "$$\\int_a^b f(x)\\mathrm{d}x$$\n",
    "\n",
    "5. 公式中的空格\n",
    "\n",
    "$a\\!b$\n",
    "\n",
    "$ab$\n",
    "\n",
    "$a\\,b$\n",
    "\n",
    "$a\\;b$\n",
    "\n",
    "$a\\ b$\n",
    "\n",
    "$a\\quad b$\n",
    "\n",
    "$a\\qquad b$\n",
    "\n",
    "$$\\int_a^b f(x)\\mathrm{d}x$$\n",
    "\n",
    "$$\\int_a^b f(x)\\, mathrm{d}x$$\n",
    "\n",
    "6. 公式中的定界符\n",
    "\n",
    "$($\n",
    "\n",
    "$)$\n",
    "\n",
    "$[$\n",
    "\n",
    "$]$\n",
    "\n",
    "$\\{$\n",
    "\n",
    "$\\}$\n",
    "\n",
    "$|$\n",
    "\n",
    "$\\|$\n",
    "\n",
    "$$\\left(\\sum_{k=\\frac{1}{2}}^{N^2}\\frac{1}{k}\\right)$$\n",
    "\n",
    "7. 矩阵\n",
    "\n",
    "$$\\begin{matrix}1 & 2\\\\3 &4\\end{matrix}$$\n",
    "\n",
    "$$\\begin{pmatrix}1 & 2\\\\3 &4\\end{pmatrix}$$\n",
    "\n",
    "$$\\begin{bmatrix}1 & 2\\\\3 &4\\end{bmatrix}$$\n",
    "\n",
    "$$\\begin{Bmatrix}1 & 2\\\\3 &4\\end{Bmatrix}$$\n",
    "\n",
    "$$\\begin{vmatrix}1 & 2\\\\3 &4\\end{vmatrix}$$\n",
    "\n",
    "$$\\begin{Vmatrix}1 & 2\\\\3 &4\\end{Vmatrix}$$\n",
    "\n",
    "8. 排版数组\n",
    "\n",
    "$$\n",
    "\\mathbf{X} =\n",
    "\\left( \\begin{array}{ccc}\n",
    "x_{11} & x_{12} & \\ldots \\\\\n",
    "x_{21} & x_{22} & \\ldots \\\\\n",
    "\\vdots & \\vdots & \\ddots\n",
    "\\end{array} \\right)\n",
    "$$\n",
    "\n",
    "$$\n",
    "y = \\left\\{ \\begin{array}{ll}\n",
    "a & \\textrm{if $d>c$}\\\\\n",
    "b+x & \\textrm{in the morning}\\\\\n",
    "l & \\textrm{all day long}\n",
    "\\end{array} \\right.\n",
    "$$\n",
    "\n",
    "$$\n",
    "\\left(\\begin{array}{c|c}\n",
    "1 & 2 \\\\\n",
    "\\hline\n",
    "3 & 4\n",
    "\\end{array}\\right)\n",
    "$$"
   ]
  }
 ],
 "metadata": {
  "kernelspec": {
   "display_name": "Python 3",
   "language": "python",
   "name": "python3"
  },
  "language_info": {
   "codemirror_mode": {
    "name": "ipython",
    "version": 3
   },
   "file_extension": ".py",
   "mimetype": "text/x-python",
   "name": "python",
   "nbconvert_exporter": "python",
   "pygments_lexer": "ipython3",
   "version": "3.7.1"
  }
 },
 "nbformat": 4,
 "nbformat_minor": 2
}
