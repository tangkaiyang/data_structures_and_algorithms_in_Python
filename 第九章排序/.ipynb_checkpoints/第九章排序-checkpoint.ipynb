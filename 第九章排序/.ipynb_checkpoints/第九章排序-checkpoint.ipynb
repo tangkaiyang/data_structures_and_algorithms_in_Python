{
 "cells": [
  {
   "cell_type": "markdown",
   "metadata": {},
   "source": [
    "# 第九章 排序"
   ]
  },
  {
   "cell_type": "markdown",
   "metadata": {},
   "source": [
    "### 9.1.2 排序算法\n",
    "#### 基于比较的排序\n",
    "`排序码`在一次排序中考虑的关键码\n",
    "`内排序`,`外排序`,`归并排序算法`\n",
    "\n",
    "两种最重要的基本操作:\n",
    "- 比较关键码的操作,通过这种操作确定数据的顺序关系\n",
    "- 移动数据记录的操作,用于调整记录的位置和/或顺序.\n",
    "\n",
    "以被排序序列的长度(即序列中元素的个数)作为问题规模参数n.\n",
    "\n",
    "`原地排序算法`:空间复杂度为常量\n",
    "\n",
    "`稳定性`:稳定的算法能够维持序列中所有排序码相同记录的相对位置.\n",
    "\n",
    "`适应性`:如果一个排序算法对接近有序的序列工作得更快,就成这种算法具有适应性.\n",
    "#### 排序算法得分类\n",
    "基于排序的基本操作方式或特点:\n",
    "- 插入排序\n",
    "- 选择排序\n",
    "- 交换排序\n",
    "- 分配排序\n",
    "- 归并排序\n",
    "- 外部排序\n",
    "#### 记录结构\n",
    "讨论排序算法时,使用的实例数据结构就是一个表(序列的一种连续表示形式),假定表中元素是下面定义的record类的对象:"
   ]
  },
  {
   "cell_type": "code",
   "execution_count": 1,
   "metadata": {},
   "outputs": [],
   "source": [
    "class record:\n",
    "    def __init__(self, key, datum):\n",
    "        self.key = key\n",
    "        self.datum = datum"
   ]
  },
  {
   "cell_type": "markdown",
   "metadata": {},
   "source": [
    "排序中只关心record对象里的key成分,但为了完成排序,经常需要把整个对象搬来搬去.Python程序采用引用语义,所谓\"搬动\"对象不过是复制其引用,这种操作可以直接映射到计算机硬件,总能在极端的常量时间内完成.另一方面,下面总假定在key成分上所需的关系运算符$(>,<,\\ge,\\le)$等已有定义,并要求以\"<=\"运算符的判断确定数据记录的顺序.为简单起见,直接称所作的排序为从小到大排序,或按关键码递增的方式排序.\n",
    "## 9.2 简单排序算法\n",
    "几种简单的排序算法,它们的共同特点是简单且最坏情况的复杂度高\n",
    "### 9.2.1 插入排序\n",
    "`插入排序`,不断把一个个元素插入一个序列中,最终得到排序序列.\n",
    "#### 算法的考虑和实现\n",
    "把正在构造的排序序列嵌入原来的表中"
   ]
  },
  {
   "cell_type": "code",
   "execution_count": 1,
   "metadata": {},
   "outputs": [],
   "source": [
    "def insert_sort(lst):\n",
    "    for i in range(1, len(lst)): # 开始时片段[0:1}已排序\n",
    "        x = lst[i]\n",
    "        j = i\n",
    "        while j > 0 and lst[j-1].key > x.key:\n",
    "            lst[j] = lst[j-1]     # 后序逐个后移元素,确定插入位置\n",
    "            j -= 1\n",
    "        lst[j] = x"
   ]
  },
  {
   "cell_type": "markdown",
   "metadata": {},
   "source": [
    "这个简单插入排序算法是稳定的:因为在内层循环中检索插入位置的过程中,一旦发现前面的元素与当前元素关键码相等,就不再移动元素了.这种做法保证了关键码相同的元素不会交换位置,因此算法稳定.\n",
    "#### 插入排序算法的变形\n",
    "采用二分法检索插入位置.\n",
    "#### 相关问题\n",
    "### 9.2.2 选择排序\n",
    "选择排序的重要策略是选择合适记录,只要严格按递增选出记录(每次选最小元素),简单地顺序排放就能完成排序工作.\n",
    "\n",
    "选择排序的基本思想:\n",
    "- 维护需要考虑的所有记录中最小的i个记录的已排序序列.\n",
    "- 每次从剩余未排序的记录中选取关键码最小的记录,将其放在已排序序列记录的后面,作为序列的第i+1个记录,使已排序序列增长.\n",
    "- 以空序列作为排序工作的开始,做到尚未排序的序列里只剩下一个元素时(它必然是最大),只需直接将其放在已排序的记录之后,整个排序就完成了.\n",
    "#### 简单选择排序\n",
    "顺序扫描序列中的元素,记住遇到最小的元素.\n",
    "#### 直接选择排序算法\n",
    "`直接选择排序算法`中简单交换这里的元素与未排序段选出的最小记录."
   ]
  },
  {
   "cell_type": "code",
   "execution_count": 1,
   "metadata": {},
   "outputs": [],
   "source": [
    "def select_sort(lst):\n",
    "    for i in range(len(lst) - 1):       # 只需循环len(lst-1)次\n",
    "        k = i\n",
    "        for j in range(i, len(lst)):    # k是已知最小元素的位置\n",
    "            if lst[j].key < lst[k].key:\n",
    "                k = j\n",
    "        if i != k:                      # lst[k]是确定的最小元素,检查是否需要交换\n",
    "            lst[i], lst[k] = lst[k], lst[i]"
   ]
  },
  {
   "cell_type": "markdown",
   "metadata": {},
   "source": [
    "### 9.2.3 交换排序\n",
    "一个序列中的记录没排好序,那么其中一定有`逆序`存在.如果交换所发现的逆序记录对,得到的序列将更接近排序序列;通过不断减少序列中的逆序,最终可以得到排序序列.采用不同的确定逆序方法和交换方法,可以得到不同`交换排序方法`.\n",
    "\n",
    "#### 起泡排序\n",
    "从左到右顺序比较一对对相邻记录,发现逆序后马上交换,然后在做下一次比较.可以看到一些情况:\n",
    "- 每一遍检查可以把一个最大元素交换到位,一些较大元素右移一段,可能移动很远.\n",
    "- 从左到右比较,导致小元素一次只左移一位.个别距离目标位置很远的小元素,可能延误整个排序进程."
   ]
  },
  {
   "cell_type": "code",
   "execution_count": 2,
   "metadata": {},
   "outputs": [],
   "source": [
    "def bubble_sort(lst):\n",
    "    for i in range(len(lst)):\n",
    "        for j in range(1, len(lst-i)):\n",
    "            if lst[j-1].key > lst[j].key:\n",
    "                lst[j-1], lst[j] = lst[j], lst[j-1]"
   ]
  },
  {
   "cell_type": "markdown",
   "metadata": {},
   "source": [
    "#### 算法的改进\n",
    "如果在一次扫描中没有遇到逆序,就说明排序工作已经完成,可以提前结束."
   ]
  },
  {
   "cell_type": "code",
   "execution_count": 3,
   "metadata": {},
   "outputs": [],
   "source": [
    "def bubble_sort(lst):\n",
    "    for i in range(len(lst) - 1):\n",
    "        found = False\n",
    "        for j in range(1, len(lst) - i):\n",
    "            if lst[j-1].key > lst[j].key:\n",
    "                lst[j-1], lst[j] = lst[j], lst[j-1]\n",
    "                found = True\n",
    "        if not found:\n",
    "            break"
   ]
  },
  {
   "cell_type": "markdown",
   "metadata": {},
   "source": [
    "`交错起泡`一遍从左向右扫描,下一遍从右向左扫描,交替进行.\n",
    "## 9.3 快速排序\n",
    "`快速排序`最早的采用递归方式描述的一种优美算法.快速排序实现中也采用了发现逆序和交换记录位置的方法,但算法中最基本的思想是划分,即按某种标准把考虑的记录划分为'小记录'和'大记录',并通过递归不断划分,最终得到一个排序的序列.其基本过程是:\n",
    "- 选择一种标准,把被排序序列中的记录按这种标准分为大小两组.显然,从整体的角度,这两组记录的顺序已定,较小一组的记录应该排在前面.\n",
    "- 采用同样方式,递归地划分得到的这两组记录,并继续递归地划分下去.\n",
    "- 划分总是得到越来越小的分组(可能越来越多),如此工作下去直到每个记录组中最多包含一个记录时,整个序列的排序完成.\n",
    "### 9.3.1 快速排序的表实现\n",
    "尽可能在表的内部完成排序,尽可能少用辅助空间.下一个问题是需要确定一种划分规则.\n",
    "\n",
    "##### pivot 枢轴"
   ]
  },
  {
   "cell_type": "code",
   "execution_count": 4,
   "metadata": {},
   "outputs": [],
   "source": [
    "def quick_sort(lst):\n",
    "    qsort_rec(lst, 0, len(lst)-1)\n",
    "def qsort_rec(lst, l, r):\n",
    "    if l >= r: return            # 分段无记录或只有一个记录\n",
    "    i = l\n",
    "    j = r\n",
    "    pivot = lst[i]               # lst[i]是初始空位\n",
    "    while i < j:                 # 找pivot的最终位置\n",
    "        while i < j and lst[j].key >= pivot.key:\n",
    "            j -= 1               # 用j向左扫描找小于pivot的记录\n",
    "        if i < j:\n",
    "            lst[i] = lst[j]\n",
    "            i += 1                # 小记录移到左边\n",
    "        while i < j and lst[i].key <= pivot.key:\n",
    "            i += 1                # 用i向右扫描大于pivot的记录\n",
    "        if i < j:\n",
    "            lst[j] = lst[i]\n",
    "            j -= 1                # 大记录移到右边\n",
    "    lst[i] = pivot                # 将pivot存入其最终位置\n",
    "    qsort_rec(lst, l, i-1)        # 递归处理左半区间\n",
    "    qsort_rec(lst, i+1, r)        # 递归处理右半区间"
   ]
  },
  {
   "cell_type": "markdown",
   "metadata": {},
   "source": [
    "抽象地看,快速排序产生的划分结构,可以看作以枢轴记录为根,以两个划分分段进一步划分的结果作为左右子树的二叉树.\n",
    "### 9.3.4 另一种简单实现"
   ]
  },
  {
   "cell_type": "code",
   "execution_count": 6,
   "metadata": {},
   "outputs": [],
   "source": [
    "def quick_sort1(lst):\n",
    "    def qsort(lst, begin, end):\n",
    "        if begin >= end:\n",
    "            return\n",
    "        pivot = lst[begin].key\n",
    "        i = begin\n",
    "        for j in range(begin+1, end+1):\n",
    "            if lst[j].key > pivot:          # 发现一个小元素\n",
    "                i += 1\n",
    "                lst[i], lst[j] = lst[j], lst[i]       # 小元素换位\n",
    "        lst[begin], lst[i] = lst[i], lst[begin]       # 枢轴元就位\n",
    "        qsort(lst, begin, i - 1)\n",
    "        qsort(lst, i + 1, end)\n",
    "    qsort(lst, 0, len(lst) - 1)"
   ]
  },
  {
   "cell_type": "markdown",
   "metadata": {},
   "source": [
    "## 9.4 归并排序\n",
    "归并是一种典型的序列操作,其工作是把两个或更多有序序列合并为一个有序序列.基于归并的思想也可以实现排序,称为`归并排序`.基本方法如下:\n",
    "- 初始时,把待排序序列中的n个记录看成n个有序子序列(因为一个记录的序列总是排好序的),每个子序列的长度均为1.\n",
    "- 把当时序列组里的有序子序列两两归并,完成一遍后序列组里的排序序列个数减半,每个子序列的长度加倍.\n",
    "- 对加长的有序子序列重复上面的操作,最终得到一个长度为n的有序序列.\n",
    "\n",
    "这种归并方法称为简单的`二路归并排序`,其中每次操作都是把两个有序序列合并为一个有序序列.也可以考虑三路归并或更多路的归并.\n",
    "\n",
    "易见,归并操作是一种顺序性操作,其中按自然存在的顺序使用已排序序列,也按呼死你徐产生归并后的结果序列.\n",
    "\n",
    "### 9.4.1 顺序表的归并排序\n",
    "### 9.4.2 归并算法的设计问题\n",
    "为实现归并另外开辟了一片同样大小的存储区.\n",
    "### 9.4.3 归并排序函数定义\n",
    "可以看到归并排序的工作分为几个层次:最上层控制一遍遍归并,完成整个表的排序工作;在一遍处理中需要分别完成一对对递增序列的归并;在归并每一对序列中有需要一个个地处理序列元素.\n",
    "1. 最下层:实现表中相邻的一对有序序列的归并工作,将归并的结果存入另一个顺序表里的相同位置.\n",
    "2. 中间层:基于操作1(一对序列的归并操作),实现对整个表里顺序各队有序序列的归并,完成一遍归并,各对序列的归并结果顺序存入另一顺序表里的同位置分段.\n",
    "3. 最高层:在两个顺序表之间往复执行操作2,完成一遍归并后交换两个表的地位,然后再重复操作2的工作,直至整个表里只有一个有序序列时排序完成."
   ]
  },
  {
   "cell_type": "code",
   "execution_count": 8,
   "metadata": {},
   "outputs": [],
   "source": [
    "def merge(lfrom, lto, low, mid, high):\n",
    "    i, j, k = low, m, low\n",
    "    while i < mid and j < high:      # 反复赋值两分段首记录中较小的\n",
    "        if lfrom[i].key <= lfrom[j].key:\n",
    "            lto[k] = lfrom[i]\n",
    "            i += 1\n",
    "        else:\n",
    "            lto[k] = lfrom[j]\n",
    "            j += 1\n",
    "        k += 1\n",
    "    while i < mid:               # 复制第一段剩余记录\n",
    "        lto[k] = lfrom[i]\n",
    "        i += 1\n",
    "        k += 1\n",
    "    while j < high:              # 复制第二段剩余记录\n",
    "        lto[k] = lfrom[j]\n",
    "        j += 1\n",
    "        k += 1\n",
    "def merge_pass(lfrom, lto, llen, slen):\n",
    "    i = 0\n",
    "    while i + 2 * slen < llen:        # 归并长slen的两段\n",
    "        merge(lfrom, lto, i, i + slen, i + 2 * slen)\n",
    "        i += 2 * slen\n",
    "    if i + slen < llen:               # 剩下两段,后段长度小于slen\n",
    "        merge(lfrom, lto, i, i + slen, llen)\n",
    "    else:                            # 只剩下一段,复制到表lto\n",
    "        for j in range(i, llen):\n",
    "            lto[j] = lfrom[j]\n",
    "def merge_sort(lst):\n",
    "    slen, llen = 1, len(lst)\n",
    "    templst = [None] * llen\n",
    "    while slen < llen:\n",
    "        merge_pass(lst, templst, llen, slen)\n",
    "        slen *= 2\n",
    "        merge_pass(templst, lst, llen, slen)  # 结果存回原位\n",
    "        slen *= 2"
   ]
  },
  {
   "cell_type": "markdown",
   "metadata": {},
   "source": [
    "## 9.5 其他排序方法\n",
    "### 9.5.1 分配排序和基数排序\n",
    "不基于关键码比较,而是基于一种固定位置的分配和收集.\n",
    "#### 分配与排序\n",
    "如果关键码只有很少几个不同的值,存在一种简单而直观的排序方法:\n",
    "- 为每个关键码设定一个桶(即是能容纳任意多个记录的容器,例如用一个连续表或链接表,参考前面桶散列表的局部描述)\n",
    "- 排序时简单地根据关键码把记录放入相应桶中.\n",
    "- 存入所有记录后,顺序收集各个桶里的记录,就得到了排序的序列.\n",
    "#### 多轮分配和排序\n",
    "采用元素是和分配排序的元组作为关键码,通过多轮分配和收集,完成以这种元组为关键码的记录的排序工作.\n",
    "\n",
    "顺序处理元组中元素存在两种方法,下面分析其中情况:\n",
    "- 从最高位(最左位)开始以此考虑关键码元素,这称为`高位优先方法(Most Significant Digit first, MSD)`.按这种方法处理一遍,得到原序列的一种分割,要完成排序,下一步应该考虑各子序列的排序(基于关键码的下一元素),然后考虑子序列的子序列排序.直到所有最小的子序列完成排序,整个序列的排序研究完成了.这一过程显然可以实现,但其中也有些问题比较麻烦,主要是需要考虑越来越多的子序列,需要记录相关信息.\n",
    "- 从最低位开始,称为`低位优先方法(Least Significant Digit first, LSD)`.首先看按这种方法对上面数据分配一遍的情况.这时将记录顺序手机,各关键码的最后一位分段递增.如果再按关键码的中间元素分配和收集,只要注意维持稳定性,在得到的每个分段中(中间位相同),仍然可以保证最后一位递增.再针对最高位做一遍分配和收集,就能得到按整个三位排序的关键码序列.\n",
    "\n",
    "如果每位关键码都是数字,上述关键码元组就像是按某种进制(以某个数为基数)表示的一个整数,排序过程中就是从低到高逐位进行分配和收集.这样的处理过程就像是按基数逐位处理,因此这种多轮分配排序也被称为`基数排序`.\n",
    "#### 算法设计与实现\n",
    "基数排序在Python中的一种简单实现.假设:\n",
    "- 需要排序的仍然是Record类型的顺序表,即Python的list\n",
    "- 记录中的关键码是十进制数字的元组,包含r个元素\n",
    "- 排序算法的参数是表lst和关键码码元组长度r."
   ]
  },
  {
   "cell_type": "code",
   "execution_count": 9,
   "metadata": {},
   "outputs": [],
   "source": [
    "def radix_sort(lst, d):\n",
    "    rlists = [[] for i in range(10)]\n",
    "    llen = len(lst)\n",
    "    for m in range(-1, -d-1, -1):\n",
    "        for j in range(llen):\n",
    "            rlists[lst[j].key[m]].append(lst[j])\n",
    "        j = 0\n",
    "        for i in range(10):\n",
    "            tmp = rlists[i]\n",
    "            for k in range(len(tmp)):\n",
    "                lst[j] = tmp[k]\n",
    "                j += 1\n",
    "            rlists[i].clear()"
   ]
  },
  {
   "cell_type": "markdown",
   "metadata": {},
   "source": [
    "### 9.5.2 一些与排序有关的问题\n",
    "#### 混成方法\n",
    "多种算法的组合,`混成方法`.\n",
    "#### 稳定性问题\n",
    "### 9.5.3 Python系统的list排序\n",
    "Timsort,`蒂姆排序`,混成排序算法"
   ]
  }
 ],
 "metadata": {
  "kernelspec": {
   "display_name": "Python 3",
   "language": "python",
   "name": "python3"
  },
  "language_info": {
   "codemirror_mode": {
    "name": "ipython",
    "version": 3
   },
   "file_extension": ".py",
   "mimetype": "text/x-python",
   "name": "python",
   "nbconvert_exporter": "python",
   "pygments_lexer": "ipython3",
   "version": "3.7.0"
  }
 },
 "nbformat": 4,
 "nbformat_minor": 2
}
