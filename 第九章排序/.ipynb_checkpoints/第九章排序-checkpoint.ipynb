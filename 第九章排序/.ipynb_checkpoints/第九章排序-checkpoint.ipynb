{
 "cells": [
  {
   "cell_type": "markdown",
   "metadata": {},
   "source": [
    "# 第九章 排序"
   ]
  },
  {
   "cell_type": "markdown",
   "metadata": {},
   "source": [
    "### 9.1.2 排序算法\n",
    "#### 基于比较的排序\n",
    "`排序码`在一次排序中考虑的关键码\n",
    "`内排序`,`外排序`,`归并排序算法`\n",
    "\n",
    "两种最重要的基本操作:\n",
    "- 比较关键码的操作,通过这种操作确定数据的顺序关系\n",
    "- 移动数据记录的操作,用于调整记录的位置和/或顺序.\n",
    "\n",
    "以被排序序列的长度(即序列中元素的个数)作为问题规模参数n.\n",
    "\n",
    "`原地排序算法`:空间复杂度为常量\n",
    "\n",
    "`稳定性`:稳定的算法能够维持序列中所有排序码相同记录的相对位置.\n",
    "\n",
    "`适应性`:如果一个排序算法对接近有序的序列工作得更快,就成这种算法具有适应性.\n",
    "#### 排序算法得分类\n",
    "基于排序的基本操作方式或特点:\n",
    "- 插入排序\n",
    "- 选择排序\n",
    "- 交换排序\n",
    "- 分配排序\n",
    "- 归并排序\n",
    "- 外部排序\n",
    "#### 记录结构\n",
    "讨论排序算法时,使用的实例数据结构就是一个表(序列的一种连续表示形式),假定表中元素是下面定义的record类的对象:"
   ]
  },
  {
   "cell_type": "code",
   "execution_count": 1,
   "metadata": {},
   "outputs": [],
   "source": [
    "class record:\n",
    "    def __init__(self, key, datum):\n",
    "        self.key = key\n",
    "        self.datum = datum"
   ]
  },
  {
   "cell_type": "markdown",
   "metadata": {},
   "source": [
    "排序中只关心record对象里的key成分,但为了完成排序,经常需要把整个对象搬来搬去.Python程序采用引用语义,所谓\"搬动\"对象不过是复制其引用,这种操作可以直接映射到计算机硬件,总能在极端的常量时间内完成.另一方面,下面总假定在key成分上所需的关系运算符$(>,<,\\ge,\\le)$等已有定义,并要求以\"<=\"运算符的判断确定数据记录的顺序.为简单起见,直接称所作的排序为从小到大排序,或按关键码递增的方式排序.\n",
    "## 9.2 简单排序算法\n",
    "几种简单的排序算法,它们的共同特点是简单且最坏情况的复杂度高\n",
    "### 9.2.1 插入排序\n",
    "`插入排序`,不断把一个个元素插入一个序列中,最终得到排序序列.\n",
    "#### 算法的考虑和实现\n",
    "把正在构造的排序序列嵌入原来的表中"
   ]
  },
  {
   "cell_type": "code",
   "execution_count": 2,
   "metadata": {},
   "outputs": [],
   "source": [
    "def insert_sort(lst):\n",
    "    for i in range(1, len(lst)): # 开始时片段[0:1}已排序\n",
    "        x = lst[i]\n",
    "        j = i\n",
    "        while j > 0 and lst[j-1].key > x.key:\n",
    "            lst[j] = lst[j-1]     # 后序逐个后移元素,确定插入位置\n",
    "            j -= 1\n",
    "        lst[j] = x"
   ]
  },
  {
   "cell_type": "code",
   "execution_count": null,
   "metadata": {},
   "outputs": [],
   "source": []
  }
 ],
 "metadata": {
  "kernelspec": {
   "display_name": "Python 3",
   "language": "python",
   "name": "python3"
  },
  "language_info": {
   "codemirror_mode": {
    "name": "ipython",
    "version": 3
   },
   "file_extension": ".py",
   "mimetype": "text/x-python",
   "name": "python",
   "nbconvert_exporter": "python",
   "pygments_lexer": "ipython3",
   "version": "3.7.1"
  }
 },
 "nbformat": 4,
 "nbformat_minor": 2
}
